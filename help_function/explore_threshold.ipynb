{
 "cells": [
  {
   "cell_type": "markdown",
   "id": "e3dacf8b-c2c3-47e3-835b-80fed5cfb924",
   "metadata": {},
   "source": [
    "<div class=\"alert alert-block alert-info\">\n",
    "<b>Tip:</b> Install the jupyter notebook first.\n",
    "</div>"
   ]
  },
  {
   "cell_type": "markdown",
   "id": "612f2ded-a269-4587-b0f1-70b07c6994ff",
   "metadata": {},
   "source": [
    "# Installing Jupyter Notebook in terminal\n",
    "\n",
    "```bash\n",
    "# Navigate to the home directory\n",
    "cd ~\n",
    "\n",
    "# Install Jupyter Notebook using pip3\n",
    "pip3 install jupyter\n"
   ]
  },
  {
   "cell_type": "code",
   "execution_count": 2,
   "id": "caeb13f8-d84e-4b8e-be87-95a40c4e601a",
   "metadata": {},
   "outputs": [],
   "source": [
    "# import modulus\n",
    "import pandas as pd\n",
    "# import os\n",
    "# script_path = 'missing_table.py'\n",
    "# os.system(f'python3 {script_path}')\n",
    "# !python missing_table.py\n",
    "# from missing_table import missing_value_df\n",
    "from datetime import datetime\n",
    "import matplotlib.pyplot as plt"
   ]
  },
  {
   "cell_type": "code",
   "execution_count": 3,
   "id": "dddac9fd",
   "metadata": {},
   "outputs": [],
   "source": [
    "# This function converts the string into the type of datetime %d/%m/%Y\n",
    "def convert_date_format(date_str):\n",
    "    try:\n",
    "        date_time_obj = datetime.strptime(date_str, '%d/%m/%Y %H:%M')\n",
    "        formatted_date = date_time_obj.strftime('%m/%d/%Y')\n",
    "        return formatted_date\n",
    "    except ValueError:\n",
    "        pass\n",
    "\n",
    "    try:\n",
    "        date_time_obj = datetime.strptime(date_str, '%d/%m/%Y')\n",
    "        return date_str\n",
    "    except ValueError:\n",
    "        raise ValueError(f\"Unsupported date format: {date_str}\")"
   ]
  },
  {
   "cell_type": "code",
   "execution_count": 4,
   "id": "ef95fb32-ab59-4d65-b9e2-92047af366c0",
   "metadata": {},
   "outputs": [],
   "source": [
    "#  count the week in per week or fornightly\n",
    "slice = 14"
   ]
  },
  {
   "cell_type": "markdown",
   "id": "e0d6fefb-69ab-40fd-971b-542dc84c2fe3",
   "metadata": {},
   "source": [
    "# Plot without threshold"
   ]
  },
  {
   "cell_type": "code",
   "execution_count": 5,
   "id": "eefe9404-18b1-43e4-b1a9-41064c02da0d",
   "metadata": {},
   "outputs": [],
   "source": [
    "# Without threshold:\n",
    "# note: More needs to be added to this script to clean the columns as needs be\n",
    "# edit: \n",
    "\n",
    "# edit: changed filed path\n",
    "df0 = pd.read_csv(\"../raw_data/australia.csv\",\n",
    "                 na_values=[\" \", \"__NA__\", \"NAN\"], keep_default_na = True, low_memory=False)\n",
    "\n",
    "# create a new column in the csv that computer from week 1 for every two weeks \n",
    "df0[\"endtime\"] = df0[\"endtime\"].apply(convert_date_format)\n",
    "df0[\"endtime\"] = pd.to_datetime(df0[\"endtime\"])\n",
    "df0 = df0.sort_values(by=[\"endtime\"])\n",
    "# Find the start date (minimum date) and end date (maximum date)\n",
    "start_date = df0['endtime'].min()\n",
    "end_date = df0['endtime'].max()\n",
    "\n",
    "# Create a new column 'week_number' and assign week numbers\n",
    "df0['week_number'] = ((df0['endtime'] - start_date).dt.days // slice) + 1\n",
    "\n",
    "frequency_dict = {\"Always\": 1, \"Frequently\": 1, \"Sometimes\": 0, \"Rarely\": 0, \"Not at all\": 0}\n",
    "df0[\"i12_health_1\"] = df0[\"i12_health_1\"].map(frequency_dict)\n",
    "\n",
    "df0_count = df0.groupby([\"week_number\", \"endtime\", \"state\", \"i12_health_1\"]).size().unstack(fill_value=0).reset_index()\n",
    "df0_count.columns = [\"week_number\", \"endtime\", \"state\", \n",
    "                    \"wearing mask = 'No'\", \"wearing mask = 'Yes'\"]\n",
    "# plot figures in states. proportion\n",
    "df0_count[\"prop_no\"] = df0_count[\"wearing mask = 'No'\"] / (df0_count[\"wearing mask = 'No'\"] + df0_count[\"wearing mask = 'Yes'\"])\n",
    "df0_count[\"prop_yes\"] = df0_count[\"wearing mask = 'Yes'\"] / (df0_count[\"wearing mask = 'No'\"] + df0_count[\"wearing mask = 'Yes'\"])\n",
    "# the regulation dates\n",
    "states_data = {\n",
    "    \"Australian Capital Territory\": [\"28/6/2021\", \"25/2/2022\"],\n",
    "    \"New South Wales\": [\"4/1/2021\", \"20/9/2022\"],\n",
    "    \"Northern Territory\": [\"19/12/2021\", \"5/3/2022\"],\n",
    "    \"Queensland\": [\"18/12/2021\", \"7/3/2022\"],\n",
    "    \"South Australia\": [\"27/7/2021\", \"20/9/2022\"],\n",
    "    \"Tasmania\": [\"21/12/2021\", \"5/3/2022\"],\n",
    "    \"Victoria\": [\"16/8/2020\", \"22/9/2022\"], \n",
    "    \"Western Australia\": [\"23/4/2021\", \"9/9/2022\"]\n",
    "}\n",
    "# # Plotting figures for each state in two columns\n",
    "# states = df0_count[\"state\"].unique()\n",
    "# num_states = len(states)\n",
    "# cols = len(df0.columns)\n",
    "# rows = len(df0)\n",
    "\n",
    "# fig, axes = plt.subplots(num_states // 2, 2, figsize=(15, 5 * (num_states // 2 + num_states % 2)))\n",
    "\n",
    "# for idx, state in enumerate(states):\n",
    "#     ax = axes[idx // 2, idx % 2] if num_states > 1 else axes\n",
    "    \n",
    "#     state_df0 = df0_count[df0_count[\"state\"] == state]\n",
    "    \n",
    "#     ax.bar(state_df0[\"week_number\"], state_df0[\"prop_yes\"], label=\"Wearing Mask = 'Yes'\")\n",
    "#     ax.bar(state_df0[\"week_number\"], state_df0[\"prop_no\"], bottom=state_df0[\"prop_yes\"], label=\"Wearing Mask = 'No'\")\n",
    "    \n",
    "#     # Add vertical lines for start and end times\n",
    "#     start_time, end_time = states_data[state]\n",
    "        \n",
    "#     if start_time:\n",
    "#         start_time = pd.to_datetime(start_time, format='%d/%m/%Y')\n",
    "#         ax.axvline(x=((start_time - start_date).days // slice) + 1, color='purple', linestyle='--', linewidth = 3, label='Face mask mandate Starts')\n",
    "#     if end_time and (state == \"Australian Capital Territory\" or state == \"Queensland\" or state == \"Tasmania\"):\n",
    "#         end_time = pd.to_datetime(end_time, format='%d/%m/%Y')\n",
    "#         ax.axvline(x=((end_time - start_date).days // slice) + 1, color='yellow', linestyle='--', linewidth = 3, label='Face mask mandate Ends')\n",
    "        \n",
    "#     ax.set_title(f\"Percentage of Wearing Mask outside home in {state}\")\n",
    "#     ax.set_xlabel(\"End time\")\n",
    "#     ax.set_ylabel(\"Percentage\")\n",
    "#     ax.set_xlim(0,52)\n",
    "#     ax.set_ylim(0, 1)  # Fixing y-axis at 1\n",
    "#     ax.text(0.9, 0.9, f\"No. of cleaned columns is {rows}x{cols}\")\n",
    "#     ax.legend()\n",
    "\n",
    "# plt.tight_layout()\n",
    "# plt.savefig(\"../figures/states_in_proportion_threshold0.png\")\n",
    "# plt.show()"
   ]
  },
  {
   "cell_type": "markdown",
   "id": "b9eced0a-ff99-46b7-a037-f465f6539cc6",
   "metadata": {},
   "source": [
    "# Plot with less than 1006 missing value"
   ]
  },
  {
   "cell_type": "code",
   "execution_count": null,
   "id": "73795c2d-fe42-482e-8db9-91a691db112d",
   "metadata": {},
   "outputs": [],
   "source": [
    "df = pd.read_csv(\"../raw_data/australia.csv\",\n",
    "                 na_values=[\" \", \"__NA__\", \"NAN\"], keep_default_na = True, low_memory=False)\n",
    "df[\"endtime\"] = df[\"endtime\"].apply(convert_date_format)\n",
    "df[\"endtime\"] = pd.to_datetime(df[\"endtime\"])\n",
    "df = df.sort_values(by=[\"endtime\"])\n",
    "# Find the start date (minimum date) and end date (maximum date)\n",
    "start_date = df['endtime'].min()\n",
    "end_date = df['endtime'].max()\n",
    "\n",
    "# Create a new column 'week_number' and assign week numbers\n",
    "df['week_number'] = ((df['endtime'] - start_date).dt.days // slice) + 1\n",
    "\n",
    "frequency_dict = {\"Always\": 1, \"Frequently\": 1, \"Sometimes\": 0, \"Rarely\": 0, \"Not at all\": 0}\n",
    "df[\"i12_health_1\"] = df[\"i12_health_1\"].map(frequency_dict)\n",
    "# Filter out the day with less than 5 data points\n",
    "# df_grouped_size = df.groupby(\"endtime\").size()\n",
    "\n",
    "# # Filter out groups with sizes less than 5\n",
    "# valid_endtimes = df_grouped_size[df_grouped_size >= 0].index\n",
    "\n",
    "# # Filter the original DataFrame to keep only rows with valid endtimes\n",
    "# df = df[df[\"week_number\"].isin(valid_endtimes)]\n",
    "\n",
    "# Set the threshold for missing value count\n",
    "# edit: change cound to 1006\n",
    "thresh_value = 1006\n",
    "\n",
    "# Extract the variable names with missing value counts larger than 1006\n",
    "columns_to_drop = missing_value_df.loc[missing_value_df['Missing Value Count']\n",
    "                                       > thresh_value, 'Variable Name'].tolist()\n",
    "\n",
    "df.drop(columns=columns_to_drop, inplace=True)\n",
    "df.dropna(inplace=True)\n",
    "\n",
    "print(df)"
   ]
  },
  {
   "cell_type": "code",
   "execution_count": null,
   "id": "ccf3fa64-8350-4336-8a08-8551fc1c01b9",
   "metadata": {},
   "outputs": [],
   "source": [
    "# plot states_in_proportion pre-setting\n",
    "\n",
    "# Assuming df is your original dataframe\n",
    "df_count = df.groupby([\"week_number\", \"endtime\", \"state\", \"i12_health_1\"]).size().unstack(fill_value=0).reset_index()\n",
    "df_count.columns = [\"week_number\", \"endtime\", \"state\", \n",
    "                    \"wearing mask = 'No'\", \"wearing mask = 'Yes'\"]\n",
    "# plot figures in states. proportion\n",
    "df_count[\"prop_no\"] = df_count[\"wearing mask = 'No'\"] / (df_count[\"wearing mask = 'No'\"] + df_count[\"wearing mask = 'Yes'\"])\n",
    "df_count[\"prop_yes\"] = df_count[\"wearing mask = 'Yes'\"] / (df_count[\"wearing mask = 'No'\"] + df_count[\"wearing mask = 'Yes'\"])\n",
    "# the regulation dates\n",
    "states_data = {\n",
    "    \"Australian Capital Territory\": [\"28/6/2021\", \"25/2/2022\"],\n",
    "    \"New South Wales\": [\"4/1/2021\", \"20/9/2022\"],\n",
    "    \"Northern Territory\": [\"19/12/2021\", \"5/3/2022\"],\n",
    "    \"Queensland\": [\"18/12/2021\", \"7/3/2022\"],\n",
    "    \"South Australia\": [\"27/7/2021\", \"20/9/2022\"],\n",
    "    \"Tasmania\": [\"21/12/2021\", \"5/3/2022\"],\n",
    "    \"Victoria\": [\"16/8/2020\", \"22/9/2022\"], \n",
    "    \"Western Australia\": [\"23/4/2021\", \"9/9/2022\"]\n",
    "}\n",
    "\n",
    "print(df_count[df_count[\"state\"]== \"Australian Capital Territory\"])"
   ]
  },
  {
   "cell_type": "code",
   "execution_count": null,
   "id": "c7049ca0-65d7-437b-92b1-4f65e75bb1eb",
   "metadata": {},
   "outputs": [],
   "source": [
    "# Plotting figures for each state in two columns\n",
    "states = df_count[\"state\"].unique()\n",
    "num_states = len(states)\n",
    "cols = len(df.columns)\n",
    "rows = len(df)\n",
    "\n",
    "fig, axes = plt.subplots(num_states // 2, 2, figsize=(15, 5 * (num_states // 2 + num_states % 2)))\n",
    "\n",
    "for idx, state in enumerate(states):\n",
    "    ax = axes[idx // 2, idx % 2] if num_states > 1 else axes\n",
    "    \n",
    "    state_df = df_count[df_count[\"state\"] == state]\n",
    "    \n",
    "    ax.bar(state_df[\"week_number\"], state_df[\"prop_yes\"], label=\"Wearing Mask = 'Yes'\")\n",
    "    ax.bar(state_df[\"week_number\"], state_df[\"prop_no\"], bottom=state_df[\"prop_yes\"], label=\"Wearing Mask = 'No'\")\n",
    "    \n",
    "    # Add vertical lines for start and end times\n",
    "    start_time, end_time = states_data[state]\n",
    "        \n",
    "    if start_time:\n",
    "        start_time = pd.to_datetime(start_time, format='%d/%m/%Y')\n",
    "        ax.axvline(x=((start_time - start_date).days // slice) + 1, color='purple', linestyle='--', linewidth = 3, label='Face mask mandate Starts')\n",
    "    if end_time and (state == \"Australian Capital Territory\" or state == \"Queensland\" or state == \"Tasmania\"):\n",
    "        end_time = pd.to_datetime(end_time, format='%d/%m/%Y')\n",
    "        ax.axvline(x=((end_time - start_date).days // slice) + 1, color='yellow', linestyle='--', linewidth = 3, label='Face mask mandate Ends')\n",
    "        \n",
    "    ax.set_title(f\"Percentage of Wearing Mask outside home in {state}\")\n",
    "    ax.set_xlabel(\"End time\")\n",
    "    ax.set_ylabel(\"Percentage\")\n",
    "    ax.set_xlim(0,52)\n",
    "    ax.set_ylim(0, 1)  # Fixing y-axis at 1\n",
    "    ax.text(0.9, 0.9, f\"No. of cleaned columns is {rows}x{cols}\")\n",
    "    ax.legend()\n",
    "\n",
    "plt.tight_layout()\n",
    "\n",
    "plt.savefig(\"../figures/states_in_proportion_threshold1006.png\")\n",
    "plt.show()"
   ]
  },
  {
   "cell_type": "markdown",
   "id": "51ee21f1-f5af-4f80-bc5e-6eb69898cae7",
   "metadata": {},
   "source": [
    "# Plot those columns with less than 10029 missing value"
   ]
  },
  {
   "cell_type": "code",
   "execution_count": null,
   "id": "cfb44485",
   "metadata": {},
   "outputs": [],
   "source": [
    "# ANOTHER TRY: threshold = 10029\n",
    "# note: More needs to be added to this script to clean the columns as needs be\n",
    "\n",
    "# edit: changed filed path\n",
    "df2 = pd.read_csv(\"../raw_data/australia.csv\",\n",
    "                 na_values=[\" \", \"__NA__\", \"NAN\"], keep_default_na = True, low_memory=False)\n",
    "\n",
    "# create a new column in the csv that computer from week 1 for every two weeks \n",
    "df2[\"endtime\"] = df2[\"endtime\"].apply(convert_date_format)\n",
    "df2[\"endtime\"] = pd.to_datetime(df2[\"endtime\"])\n",
    "\n",
    "# Find the start date (minimum date) and end date (maximum date)\n",
    "start_date = df2['endtime'].min()\n",
    "end_date = df2['endtime'].max()\n",
    "\n",
    "# Create a new column 'week_number' and assign week numbers\n",
    "df2['week_number'] = ((df2['endtime'] - start_date).dt.days // slice) + 1\n",
    "\n",
    "# Filter out the day with less than 300 data points\n",
    "# df2_grouped_size = df2.groupby(\"week_number\").size()\n",
    "\n",
    "# # Filter out groups with sizes less than 300\n",
    "# valid_endtimes = df2_grouped_size[df2_grouped_size >= 0].index\n",
    "\n",
    "# # Filter the original DataFrame to keep only rows with valid endtimes\n",
    "# df2 = df2[df2[\"week_number\"].isin(valid_endtimes)]\n",
    "\n",
    "# print(df2_grouped_size)\n",
    "# Set the threshold for missing value count\n",
    "# edit: change cound to 10029\n",
    "thresh_value = 70014\n",
    "\n",
    "# Extract the variable names with missing value counts larger than 10029\n",
    "columns_to_drop = missing_value_df.loc[missing_value_df['Missing Value Count']\n",
    "                                       > thresh_value, 'Variable Name'].tolist()\n",
    "\n",
    "df2.drop(columns=columns_to_drop, inplace=True)\n",
    "df2.dropna(inplace=True)\n",
    "\n",
    "states_data = {\n",
    "    \"Australian Capital Territory\": [\"28/6/2021\", \"25/2/2022\"],\n",
    "    \"New South Wales\": [\"4/1/2021\", \"20/9/2022\"],\n",
    "    \"Northern Territory\": [\"19/12/2021\", \"5/3/2022\"],\n",
    "    \"Queensland\": [\"18/12/2021\", \"7/3/2022\"],\n",
    "    \"South Australia\": [\"27/7/2021\", \"20/9/2022\"],\n",
    "    \"Tasmania\": [\"21/12/2021\", \"5/3/2022\"],\n",
    "    \"Victoria\": [\"16/8/2020\", \"22/9/2022\"], \n",
    "    \"Western Australia\": [\"23/4/2021\", \"9/9/2022\"]\n",
    "}\n",
    "\n",
    "print(df2)"
   ]
  },
  {
   "cell_type": "code",
   "execution_count": null,
   "id": "17bda3f8-3283-46b2-af77-dbf5fcec636c",
   "metadata": {},
   "outputs": [],
   "source": [
    "# plot states_in_proportion pre-setting\n",
    "\n",
    "df2[\"endtime\"] = pd.to_datetime(df2[\"endtime\"])   \n",
    "df2 = df2.sort_values(by=[\"endtime\"])\n",
    "\n",
    "frequency_dict = {\"Always\": 1, \"Frequently\": 1, \"Sometimes\": 0, \"Rarely\": 0, \"Not at all\": 0}\n",
    "df2[\"i12_health_1\"] = df2[\"i12_health_1\"].map(frequency_dict)\n",
    "\n",
    "# Assuming df2 is original dataframe\n",
    "df2_count = df2.groupby([\"week_number\", \"endtime\", \"state\", \"i12_health_1\"]).size().unstack(fill_value=0).reset_index()\n",
    "df2_count.columns = [\"week_number\", \"endtime\", \"state\", \n",
    "                    \"wearing mask = 'No'\", \"wearing mask = 'Yes'\"]\n",
    "# plot figures in states. proportion\n",
    "df2_count[\"prop_no\"] = df2_count[\"wearing mask = 'No'\"] / (df2_count[\"wearing mask = 'No'\"] + df2_count[\"wearing mask = 'Yes'\"])\n",
    "df2_count[\"prop_yes\"] = df2_count[\"wearing mask = 'Yes'\"] / (df2_count[\"wearing mask = 'No'\"] + df2_count[\"wearing mask = 'Yes'\"])\n",
    "\n",
    "print(df2_count[df2_count[\"state\"]== \"Australian Capital Territory\"])"
   ]
  },
  {
   "cell_type": "code",
   "execution_count": null,
   "id": "e05a258f-9ba5-4e0f-8b90-63363ded75d0",
   "metadata": {},
   "outputs": [],
   "source": [
    "# Plotting figures for each state in two columns\n",
    "states = df_count[\"state\"].unique()\n",
    "num_states = len(states)\n",
    "cols = len(df2.columns)\n",
    "rows = len(df2)\n",
    "\n",
    "fig, axes = plt.subplots(num_states // 2, 2, figsize=(15, 5 * (num_states // 2 + num_states % 2)))\n",
    "\n",
    "for idx, state in enumerate(states):\n",
    "    ax = axes[idx // 2, idx % 2] if num_states > 1 else axes\n",
    "    \n",
    "    state_df2 = df2_count[df2_count[\"state\"] == state]\n",
    "    \n",
    "    ax.bar(state_df2[\"week_number\"], state_df2[\"prop_yes\"], label=\"Wearing Mask = 'Yes'\")\n",
    "    ax.bar(state_df2[\"week_number\"], state_df2[\"prop_no\"], bottom=state_df2[\"prop_yes\"], label=\"Wearing Mask = 'No'\")\n",
    "    \n",
    "    # Add vertical lines for start and end times\n",
    "    start_time, end_time = states_data[state]\n",
    "    if start_time:\n",
    "        start_time = pd.to_datetime(start_time, format='%d/%m/%Y')\n",
    "        ax.axvline(x=((start_time - start_date).days // slice) + 1, color='purple', linestyle='--', linewidth = 3, label='Face mask mandate Starts')\n",
    "    if end_time and (state == \"Australian Capital Territory\" or state == \"Queensland\" or state == \"Tasmania\"):\n",
    "        end_time = pd.to_datetime(end_time, format='%d/%m/%Y')\n",
    "        ax.axvline(x=((end_time - start_date).days // slice) + 1, color='yellow', linestyle='--', linewidth = 3, label='Face mask mandate Ends')\n",
    "        \n",
    "    ax.set_title(f\"Percentage of Wearing Mask outside home in {state}\")\n",
    "    ax.set_xlabel(\"Week time\")\n",
    "    ax.set_ylabel(\"Percentage\")\n",
    "    ax.set_xlim(0, 52)\n",
    "    ax.set_ylim(0, 1)  # Fixing y-axis at 1\n",
    "    ax.text(0.9, 0.9, f\"No. of cleaned columns is {rows}x{cols}\")\n",
    "    ax.legend()\n",
    "\n",
    "plt.tight_layout()\n",
    "\n",
    "plt.savefig(\"../figures/states_in_proportion_threshold10029.png\")\n",
    "plt.show()"
   ]
  },
  {
   "cell_type": "code",
   "execution_count": null,
   "id": "a05226b6-9f38-4e1b-aef9-be265cca2c5c",
   "metadata": {},
   "outputs": [],
   "source": [
    "# Save the cleaned DataFrame to a new CSV file\n",
    "# edit: fixed file path/save location\n",
    "# df.to_csv(\"../data/cleaned_data.csv\", index=False)"
   ]
  },
  {
   "cell_type": "markdown",
   "id": "a24e334a-c34a-43d0-ade2-516ccfd08604",
   "metadata": {},
   "source": [
    "# Plot with proportion of the gender and state through time"
   ]
  },
  {
   "cell_type": "code",
   "execution_count": null,
   "id": "6363c338",
   "metadata": {},
   "outputs": [],
   "source": [
    "# Observe the gender & state to see the proportion of the survey through the time\n",
    "df3 = pd.read_csv(\"../raw_data/australia.csv\",\n",
    "                 na_values=[\" \", \"__NA__\", \"NAN\"], keep_default_na = True, low_memory=False)\n",
    "\n",
    "# Filter out the day with less than 5 data points\n",
    "df3_grouped_size = df3.groupby(\"endtime\").size()\n",
    "\n",
    "# Filter out groups with sizes less than 5\n",
    "valid_endtimes = df3_grouped_size[df3_grouped_size >= 0].index\n",
    "\n",
    "# Filter the original DataFrame to keep only rows with valid endtimes\n",
    "df3 = df3[df3[\"endtime\"].isin(valid_endtimes)]\n",
    "\n",
    "# create a new column in the csv that computer from week 1 for every two weeks \n",
    "df3[\"endtime\"] = df3[\"endtime\"].apply(convert_date_format)\n",
    "df3[\"endtime\"] = pd.to_datetime(df3[\"endtime\"])\n",
    "\n",
    "# Find the start date (minimum date) and end date (maximum date)\n",
    "start_date = df3['endtime'].min()\n",
    "end_date = df3['endtime'].max()\n",
    "\n",
    "# Create a new column 'week_number' and assign week numbers\n",
    "df3['week_number'] = ((df3['endtime'] - start_date).dt.days // slice) + 1\n",
    "\n",
    "# Set the threshold for missing value count\n",
    "# edit: change cound to 1006\n",
    "thresh_value = 1006\n",
    "\n",
    "# Extract the variable names with missing value counts larger than 1006\n",
    "columns_to_drop = missing_value_df.loc[missing_value_df['Missing Value Count']\n",
    "                                       > thresh_value, 'Variable Name'].tolist()\n",
    "\n",
    "df3.drop(columns=columns_to_drop, inplace=True)\n",
    "df3.dropna(inplace=True)\n",
    "\n",
    "states_data = {\n",
    "    \"Australian Capital Territory\": [\"28/6/2021\", \"25/2/2022\"],\n",
    "    \"New South Wales\": [\"4/1/2021\", \"20/9/2022\"],\n",
    "    \"Northern Territory\": [\"19/12/2021\", \"5/3/2022\"],\n",
    "    \"Queensland\": [\"18/12/2021\", \"7/3/2022\"],\n",
    "    \"South Australia\": [\"27/7/2021\", \"20/9/2022\"],\n",
    "    \"Tasmania\": [\"21/12/2021\", \"5/3/2022\"],\n",
    "    \"Victoria\": [\"16/8/2020\", \"22/9/2022\"], \n",
    "    \"Western Australia\": [\"23/4/2021\", \"9/9/2022\"]\n",
    "}\n",
    "\n",
    "print(df3)"
   ]
  },
  {
   "cell_type": "code",
   "execution_count": null,
   "id": "c77c773a-72bf-4b4a-b7d6-c2beceb8de23",
   "metadata": {},
   "outputs": [],
   "source": [
    "# plot gender\n",
    "df3[\"endtime\"] = pd.to_datetime(df3[\"endtime\"])   \n",
    "df3 = df3.sort_values(by=[\"endtime\"])\n",
    "\n",
    "# Assuming df3 is original dataframe\n",
    "df3_count = df3.groupby([\"week_number\", \"endtime\", \"gender\"]).size().unstack(fill_value=0).reset_index()\n",
    "df3_count.columns = [\"week_number\", \"endtime\", \n",
    "                    \"Male_no.\", \"Female_no.\"]\n",
    "\n",
    "# plot figures in states. proportion\n",
    "df3_count[\"Male\"] = df3_count[\"Male_no.\"] / (df3_count[\"Male_no.\"] + df3_count[\"Female_no.\"])\n",
    "df3_count[\"Female\"] = df3_count[\"Female_no.\"] / (df3_count[\"Male_no.\"] + df3_count[\"Female_no.\"])\n",
    "\n",
    "print(df3_count)\n",
    "\n",
    "plt.bar(df3_count[\"week_number\"], df3_count[\"Female\"], label=\"Female\")\n",
    "plt.bar(df3_count[\"week_number\"], df3_count[\"Male\"], bottom=df3_count[\"Female\"], label=\"Male\")\n",
    "plt.title(\"Percentage of gender\")\n",
    "plt.xlabel(\"Week time\")\n",
    "plt.ylabel(\"Percentage\")\n",
    "plt.xlim(0, 52)\n",
    "plt.ylim(0, 1)  # Fixing y-axis at 1\n",
    "plt.legend()\n",
    "plt.tight_layout()\n",
    "plt.savefig(\"../figures/gender_in_proportion_threshold1006.png\")\n",
    "plt.show()"
   ]
  },
  {
   "cell_type": "code",
   "execution_count": null,
   "id": "80731f2e-4b23-4b6f-a5e0-ec9d88e1e8a2",
   "metadata": {},
   "outputs": [],
   "source": [
    "# plot state\n",
    "df3[\"endtime\"] = pd.to_datetime(df3[\"endtime\"])   \n",
    "df3 = df3.sort_values(by=[\"endtime\"])\n",
    "\n",
    "# Assuming df3 is original dataframe\n",
    "df3_count = df3.groupby([\"week_number\", \"endtime\", \"state\"]).size().unstack(fill_value=0).reset_index()\n",
    "df3_count.columns = [\"week_number\", \"endtime\", \n",
    "                    \"Australian Capital Territory\",\n",
    "                     \"New South Wales\",\n",
    "                     \"Northern Territory\",\n",
    "                     \"Queensland\",\n",
    "                     \"South Australia\",\n",
    "                     \"Tasmania\",\n",
    "                     \"Victoria\",\n",
    "                     \"Western Australia\"]\n",
    "\n",
    "# plot figures in states. proportion\n",
    "total = (df3_count[\"Australian Capital Territory\"]+df3_count[\"New South Wales\"]+df3_count[\"Northern Territory\"]+df3_count[\"Queensland\"]+df3_count[\"South Australia\"]+df3_count[\"Tasmania\"]+df3_count[\"Victoria\"]+df3_count[\"Western Australia\"])\n",
    "df3_count[\"ACT\"] = df3_count[\"Australian Capital Territory\"] / total\n",
    "df3_count[\"NSW\"] = df3_count[\"New South Wales\"] / total\n",
    "df3_count[\"NT\"] = df3_count[\"Northern Territory\"] / total\n",
    "df3_count[\"QLD\"] = df3_count[\"Queensland\"] / total\n",
    "df3_count[\"SA\"] = df3_count[\"South Australia\"] / total\n",
    "df3_count[\"TAS\"] = df3_count[\"Tasmania\"] / total\n",
    "df3_count[\"VIC\"] = df3_count[\"Victoria\"] / total\n",
    "df3_count[\"WA\"] = df3_count[\"Western Australia\"] / total\n",
    "\n",
    "print(df3_count[df3_count[\"week_number\"]==52])\n",
    "\n",
    "states = [\"ACT\", \"NSW\", \"NT\", \"QLD\", \"SA\", \"TAS\", \"VIC\", \"WA\"]\n",
    "\n",
    "for state in states:\n",
    "    plt.bar(df3_count[\"week_number\"], df3_count[state], label=state, bottom=df3_count[states[0:states.index(state)]].sum(axis=1))\n",
    "\n",
    "plt.title(\"Percentage of states\")\n",
    "plt.xlabel(\"Week time\")\n",
    "plt.ylabel(\"Percentage\")\n",
    "plt.xlim(0, 52)\n",
    "plt.ylim(0, 1)  # Fixing y-axis at 1\n",
    "plt.legend()\n",
    "plt.tight_layout()\n",
    "plt.savefig(\"../figures/state_in_proportion_threshold1006.png\")\n",
    "plt.show()"
   ]
  },
  {
   "cell_type": "code",
   "execution_count": null,
   "id": "62b8c942-6dce-45dd-8d6c-bbbd9bcca176",
   "metadata": {},
   "outputs": [],
   "source": [
    "# Observe the gender & state to see the proportion of the survey through the time\n",
    "df4 = pd.read_csv(\"../raw_data/australia.csv\",\n",
    "                 na_values=[\" \", \"__NA__\", \"NAN\"], keep_default_na = True, low_memory=False)\n",
    "\n",
    "# Filter out the day with less than 5 data points\n",
    "df4_grouped_size = df4.groupby(\"endtime\").size()\n",
    "\n",
    "# Filter out groups with sizes less than 5\n",
    "valid_endtimes = df4_grouped_size[df4_grouped_size >= 0].index\n",
    "\n",
    "# Filter the original DataFrame to keep only rows with valid endtimes\n",
    "df4 = df4[df4[\"endtime\"].isin(valid_endtimes)]\n",
    "\n",
    "# create a new column in the csv that computer from week 1 for every two weeks \n",
    "df4[\"endtime\"] = df4[\"endtime\"].apply(convert_date_format)\n",
    "df4[\"endtime\"] = pd.to_datetime(df4[\"endtime\"])\n",
    "\n",
    "# Find the start date (minimum date) and end date (maximum date)\n",
    "start_date = df4['endtime'].min()\n",
    "end_date = df4['endtime'].max()\n",
    "\n",
    "# Create a new column 'week_number' and assign week numbers\n",
    "df4['week_number'] = ((df4['endtime'] - start_date).dt.days // slice) + 1\n",
    "\n",
    "# Set the threshold for missing value count\n",
    "# edit: change cound to 10029\n",
    "thresh_value = 10029\n",
    "\n",
    "# Extract the variable names with missing value counts larger than 10029\n",
    "columns_to_drop = missing_value_df.loc[missing_value_df['Missing Value Count']\n",
    "                                       > thresh_value, 'Variable Name'].tolist()\n",
    "\n",
    "df4.drop(columns=columns_to_drop, inplace=True)\n",
    "df4.dropna(inplace=True)\n",
    "\n",
    "states_data = {\n",
    "    \"Australian Capital Territory\": [\"28/6/2021\", \"25/2/2022\"],\n",
    "    \"New South Wales\": [\"4/1/2021\", \"20/9/2022\"],\n",
    "    \"Northern Territory\": [\"19/12/2021\", \"5/3/2022\"],\n",
    "    \"Queensland\": [\"18/12/2021\", \"7/3/2022\"],\n",
    "    \"South Australia\": [\"27/7/2021\", \"20/9/2022\"],\n",
    "    \"Tasmania\": [\"21/12/2021\", \"5/3/2022\"],\n",
    "    \"Victoria\": [\"16/8/2020\", \"22/9/2022\"], \n",
    "    \"Western Australia\": [\"23/4/2021\", \"9/9/2022\"]\n",
    "}\n",
    "\n",
    "print(df4)"
   ]
  },
  {
   "cell_type": "code",
   "execution_count": null,
   "id": "562bf8ac-a161-4bf5-b94c-af854ef1836e",
   "metadata": {},
   "outputs": [],
   "source": [
    "# plot gender\n",
    "df4[\"endtime\"] = pd.to_datetime(df4[\"endtime\"])   \n",
    "df4 = df4.sort_values(by=[\"endtime\"])\n",
    "\n",
    "# Assuming df4 is original dataframe\n",
    "df4_count = df4.groupby([\"week_number\", \"endtime\", \"gender\"]).size().unstack(fill_value=0).reset_index()\n",
    "df4_count.columns = [\"week_number\", \"endtime\", \n",
    "                    \"Male_no.\", \"Female_no.\"]\n",
    "\n",
    "# plot figures in states. proportion\n",
    "df4_count[\"Male\"] = df4_count[\"Male_no.\"] / (df4_count[\"Male_no.\"] + df4_count[\"Female_no.\"])\n",
    "df4_count[\"Female\"] = df4_count[\"Female_no.\"] / (df4_count[\"Male_no.\"] + df4_count[\"Female_no.\"])\n",
    "\n",
    "print(df4_count)\n",
    "\n",
    "plt.bar(df4_count[\"week_number\"], df4_count[\"Female\"], label=\"Female\")\n",
    "plt.bar(df4_count[\"week_number\"], df4_count[\"Male\"], bottom=df4_count[\"Female\"], label=\"Male\")\n",
    "plt.title(f\"Percentage of gender\")\n",
    "plt.title(\"Percentage of gender\")\n",
    "plt.xlabel(\"Week time\")\n",
    "plt.ylabel(\"Percentage\")\n",
    "plt.xlim(0, 52)\n",
    "plt.ylim(0, 1)  # Fixing y-axis at 1\n",
    "plt.legend()\n",
    "plt.tight_layout()\n",
    "plt.savefig(\"../figures/gender_in_proportion_threshold10029.png\")\n",
    "plt.show()"
   ]
  },
  {
   "cell_type": "code",
   "execution_count": null,
   "id": "f0bf3c77-31b1-4bd7-ac26-2a0572161866",
   "metadata": {
    "scrolled": true
   },
   "outputs": [],
   "source": [
    "# plot state\n",
    "df4[\"endtime\"] = pd.to_datetime(df4[\"endtime\"])   \n",
    "df4 = df4.sort_values(by=[\"endtime\"])\n",
    "\n",
    "# Assuming df4 is original dataframe\n",
    "df4_count = df4.groupby([\"week_number\", \"endtime\", \"state\"]).size().unstack(fill_value=0).reset_index()\n",
    "df4_count.columns = [\"week_number\", \"endtime\", \n",
    "                    \"Australian Capital Territory\",\n",
    "                     \"New South Wales\",\n",
    "                     \"Northern Territory\",\n",
    "                     \"Queensland\",\n",
    "                     \"South Australia\",\n",
    "                     \"Tasmania\",\n",
    "                     \"Victoria\",\n",
    "                     \"Western Australia\"]\n",
    "\n",
    "# plot figures in states. proportion\n",
    "total = (df4_count[\"Australian Capital Territory\"]+df4_count[\"New South Wales\"]+df4_count[\"Northern Territory\"]+df4_count[\"Queensland\"]+df4_count[\"South Australia\"]+df4_count[\"Tasmania\"]+df4_count[\"Victoria\"]+df4_count[\"Western Australia\"])\n",
    "df4_count[\"ACT\"] = df4_count[\"Australian Capital Territory\"] / total\n",
    "df4_count[\"NSW\"] = df4_count[\"New South Wales\"] / total\n",
    "df4_count[\"NT\"] = df4_count[\"Northern Territory\"] / total\n",
    "df4_count[\"QLD\"] = df4_count[\"Queensland\"] / total\n",
    "df4_count[\"SA\"] = df4_count[\"South Australia\"] / total\n",
    "df4_count[\"TAS\"] = df4_count[\"Tasmania\"] / total\n",
    "df4_count[\"VIC\"] = df4_count[\"Victoria\"] / total\n",
    "df4_count[\"WA\"] = df4_count[\"Western Australia\"] / total\n",
    "\n",
    "states = [\"ACT\", \"NSW\", \"NT\", \"QLD\", \"SA\", \"TAS\", \"VIC\", \"WA\"]\n",
    "\n",
    "for state in states:\n",
    "    plt.bar(df4_count[\"week_number\"], df4_count[state], label=state, bottom=df4_count[states[0:states.index(state)]].sum(axis=1))\n",
    "\n",
    "plt.title(\"Percentage of states\")\n",
    "plt.xlabel(\"Week time\")\n",
    "plt.ylabel(\"Percentage\")\n",
    "plt.xlim(0, 52)\n",
    "plt.ylim(0, 1)  # Fixing y-axis at 1\n",
    "plt.legend()\n",
    "plt.tight_layout()\n",
    "plt.savefig(\"../figures/state_in_proportion_threshold10029.png\")\n",
    "plt.show()"
   ]
  },
  {
   "cell_type": "markdown",
   "id": "c1f23ad1-f434-4d1b-bfcc-68058ab89e63",
   "metadata": {},
   "source": [
    "# Explore the variables\n",
    "df0 - without threshold\\\n",
    "df - threshold 1006\\\n",
    "df2 - threshold 10029"
   ]
  },
  {
   "cell_type": "code",
   "execution_count": null,
   "id": "a7d87f85-1949-4875-8cc6-9e4142c23dcd",
   "metadata": {},
   "outputs": [],
   "source": [
    "# print(df0[\"week_number\"])\n",
    "print(df0[df0[\"endtime\"]== \"10-18-2021\"])\n",
    "# print(df0[\"endtime\"].max())"
   ]
  },
  {
   "cell_type": "markdown",
   "id": "67295dc0-c9f8-4df5-b1af-8772a3701a4c",
   "metadata": {},
   "source": [
    "## Age"
   ]
  },
  {
   "cell_type": "code",
   "execution_count": null,
   "id": "06a8aa17-c912-4932-b83c-83275842f6c2",
   "metadata": {},
   "outputs": [],
   "source": [
    "# The original dataset\n",
    "df0_age = df0.copy()  # Make a copy to avoid modifying the original dataframe\n",
    "\n",
    "# Classify age into groups\n",
    "bins = [-1, 9, 19, 29, 39, 49, 59, 69, 79, 89, float('inf')]\n",
    "labels = ['0-9', '10-19', '20-29', '30-39', '40-49', '50-59', '60-69', '70-79', '80-89', '90+']\n",
    "df0_age['age_group'] = pd.cut(df0_age['age'], bins=bins, labels=labels, right=False)\n",
    "\n",
    "# Print the count for each age group\n",
    "print(df0_age['age_group'].value_counts())"
   ]
  },
  {
   "cell_type": "markdown",
   "id": "9dfe65ee-362c-4df5-bd5e-0636d94c78ab",
   "metadata": {},
   "source": [
    "## Employment Status"
   ]
  },
  {
   "cell_type": "code",
   "execution_count": null,
   "id": "26487445-ee8d-4add-9c52-cf7a2c164ebc",
   "metadata": {},
   "outputs": [],
   "source": [
    "print(df0[\"employment_status\"].value_counts())"
   ]
  },
  {
   "cell_type": "markdown",
   "id": "8b16f41c-bd52-4d86-9554-d75cf9c7b4c2",
   "metadata": {},
   "source": [
    "## household size"
   ]
  },
  {
   "cell_type": "code",
   "execution_count": null,
   "id": "29fb5a55-3fec-43c4-bf76-d2d6ee38c510",
   "metadata": {},
   "outputs": [],
   "source": [
    "print(df0[\"household_size\"].value_counts())"
   ]
  },
  {
   "cell_type": "markdown",
   "id": "f90fba42-a320-49b9-a7cc-9d451a75a001",
   "metadata": {},
   "source": [
    "## d1_health"
   ]
  },
  {
   "cell_type": "code",
   "execution_count": null,
   "id": "095077f8-c050-4f90-a6e2-7740094fcfdd",
   "metadata": {},
   "outputs": [],
   "source": [
    "print(df0[\"d1_health_99\"].value_counts())"
   ]
  },
  {
   "cell_type": "markdown",
   "id": "d99c902e-bb2a-486f-9b1f-c258d97990f9",
   "metadata": {},
   "source": [
    "## PHQ"
   ]
  },
  {
   "cell_type": "code",
   "execution_count": 6,
   "id": "4d4796ce-ad81-4b94-bc6a-1ebfac9279d1",
   "metadata": {},
   "outputs": [
    {
     "name": "stdout",
     "output_type": "stream",
     "text": [
      "6154\n",
      "0\n"
     ]
    },
    {
     "name": "stderr",
     "output_type": "stream",
     "text": [
      "/var/folders/zw/qzpy5wgd4tn7wdrrtkxfybwh0000gn/T/ipykernel_1502/133175337.py:8: SettingWithCopyWarning: \n",
      "A value is trying to be set on a copy of a slice from a DataFrame\n",
      "\n",
      "See the caveats in the documentation: https://pandas.pydata.org/pandas-docs/stable/user_guide/indexing.html#returning-a-view-versus-a-copy\n",
      "  filtered_df[\"PHQ4_4\"].replace(pd.NA, \"N/A\", inplace=True)\n"
     ]
    }
   ],
   "source": [
    "sdate = \"19-02-2021\"\n",
    "edate = \"18-10-2021\"\n",
    "filtered_df = df0.copy()\n",
    "filtered_df = df0[(df0[\"endtime\"] <= edate) & (df0[\"endtime\"] >= sdate)]\n",
    "\n",
    "print(filtered_df[\"PHQ4_4\"].isnull().sum())\n",
    "# Replace these na in weeks with N/A category\n",
    "filtered_df[\"PHQ4_4\"].replace(pd.NA, \"N/A\", inplace=True)\n",
    "\n",
    "print(filtered_df[\"PHQ4_4\"].isnull().sum())"
   ]
  },
  {
   "cell_type": "markdown",
   "id": "43232289-7873-4213-aedb-5bc0f0b66119",
   "metadata": {},
   "source": [
    "## D1_health"
   ]
  },
  {
   "cell_type": "code",
   "execution_count": 6,
   "id": "23df1822-7f7b-47e0-8b2c-43d79adaa9a2",
   "metadata": {},
   "outputs": [
    {
     "name": "stdout",
     "output_type": "stream",
     "text": [
      "6183\n",
      "0\n"
     ]
    },
    {
     "name": "stderr",
     "output_type": "stream",
     "text": [
      "/var/folders/zw/qzpy5wgd4tn7wdrrtkxfybwh0000gn/T/ipykernel_57033/2187273488.py:8: SettingWithCopyWarning: \n",
      "A value is trying to be set on a copy of a slice from a DataFrame\n",
      "\n",
      "See the caveats in the documentation: https://pandas.pydata.org/pandas-docs/stable/user_guide/indexing.html#returning-a-view-versus-a-copy\n",
      "  filtered_df[\"d1_health_1\"].replace(pd.NA, \"N/A\", inplace=True)\n"
     ]
    }
   ],
   "source": [
    "sdate = \"19-02-2021\"\n",
    "edate = \"18-10-2021\"\n",
    "filtered_df = df0.copy()\n",
    "filtered_df = df0[(df0[\"endtime\"] <= edate) & (df0[\"endtime\"] >= sdate)]\n",
    "\n",
    "print(filtered_df[\"d1_health_1\"].isnull().sum())\n",
    "# Replace these na in weeks with N/A category\n",
    "filtered_df[\"d1_health_1\"].replace(pd.NA, \"N/A\", inplace=True)\n",
    "\n",
    "print(filtered_df[\"d1_health_1\"].isnull().sum())"
   ]
  },
  {
   "cell_type": "code",
   "execution_count": 8,
   "id": "2ee65413-71ef-4fc3-89ad-ced2c22d5ed5",
   "metadata": {},
   "outputs": [
    {
     "name": "stdout",
     "output_type": "stream",
     "text": [
      "1\n",
      "2\n",
      "3\n",
      "4\n"
     ]
    }
   ],
   "source": [
    "for i in range(1,5):\n",
    "    print(i)"
   ]
  },
  {
   "cell_type": "markdown",
   "id": "37c94534-bf99-482d-992e-a4457333258c",
   "metadata": {},
   "source": [
    "## Drop useless columns"
   ]
  },
  {
   "cell_type": "code",
   "execution_count": 11,
   "id": "bab656b6-bde8-48a2-884a-69738c9a08e1",
   "metadata": {},
   "outputs": [
    {
     "name": "stdout",
     "output_type": "stream",
     "text": [
      "         endtime  i1_health  i2_health  i7a_health       i3_health  \\\n",
      "0     2020-04-01        1.0        1.0         0.0  No, I have not   \n",
      "380   2020-04-01        5.0        2.0         2.0  No, I have not   \n",
      "381   2020-04-01        0.0       10.0         0.0  No, I have not   \n",
      "382   2020-04-01        1.0       30.0         1.0  No, I have not   \n",
      "383   2020-04-01        1.0        0.0         0.0  No, I have not   \n",
      "...          ...        ...        ...         ...             ...   \n",
      "53695 2022-03-28        NaN        NaN         NaN             NaN   \n",
      "53773 2022-03-28        NaN        NaN         NaN             NaN   \n",
      "53747 2022-03-28        NaN        NaN         NaN             NaN   \n",
      "53820 2022-03-28        NaN        NaN         NaN             NaN   \n",
      "53832 2022-03-28        NaN        NaN         NaN             NaN   \n",
      "\n",
      "               i4_health i5_health_1 i5_health_2 i5_health_3 i5_health_4  ...  \\\n",
      "0      No, they have not         NaN         NaN         NaN         NaN  ...   \n",
      "380    No, they have not          No          No          No          No  ...   \n",
      "381    No, they have not          No          No          No          No  ...   \n",
      "382    No, they have not          No          No          No          No  ...   \n",
      "383    No, they have not          No          No          No          No  ...   \n",
      "...                  ...         ...         ...         ...         ...  ...   \n",
      "53695                NaN         NaN         NaN         NaN         NaN  ...   \n",
      "53773                NaN         NaN         NaN         NaN         NaN  ...   \n",
      "53747                NaN         NaN         NaN         NaN         NaN  ...   \n",
      "53820                NaN         NaN         NaN         NaN         NaN  ...   \n",
      "53832                NaN         NaN         NaN         NaN         NaN  ...   \n",
      "\n",
      "      q_other household_children_resp had_covid    vac_boost_beyond  \\\n",
      "0         NaN                     NaN       NaN                 NaN   \n",
      "380       NaN                     NaN       NaN                 NaN   \n",
      "381       NaN                     NaN       NaN                 NaN   \n",
      "382       NaN                     NaN       NaN                 NaN   \n",
      "383       NaN                     NaN       NaN                 NaN   \n",
      "...       ...                     ...       ...                 ...   \n",
      "53695     NaN                       0       NaN                 NaN   \n",
      "53773     NaN                       0       NaN  1 - Strongly agree   \n",
      "53747     NaN                       0       NaN                 NaN   \n",
      "53820     NaN                       0       NaN                   3   \n",
      "53832     NaN                       0       NaN                   2   \n",
      "\n",
      "                 future_1            future_2 had_covid_2 long_covid  \\\n",
      "0                     NaN                 NaN         NaN        NaN   \n",
      "380                   NaN                 NaN         NaN        NaN   \n",
      "381                   NaN                 NaN         NaN        NaN   \n",
      "382                   NaN                 NaN         NaN        NaN   \n",
      "383                   NaN                 NaN         NaN        NaN   \n",
      "...                   ...                 ...         ...        ...   \n",
      "53695  3 – About the same                   4          No        NaN   \n",
      "53773  3 – About the same  3 – About the same          No        NaN   \n",
      "53747  3 – About the same                   4          No        NaN   \n",
      "53820  3 – About the same  3 – About the same          No        NaN   \n",
      "53832  3 – About the same                   4          No        NaN   \n",
      "\n",
      "                 future_3  week_number  \n",
      "0                     NaN            1  \n",
      "380                   NaN            1  \n",
      "381                   NaN            1  \n",
      "382                   NaN            1  \n",
      "383                   NaN            1  \n",
      "...                   ...          ...  \n",
      "53695  3 – About the same           52  \n",
      "53773  3 – About the same           52  \n",
      "53747                   2           52  \n",
      "53820  3 – About the same           52  \n",
      "53832                   2           52  \n",
      "\n",
      "[53833 rows x 511 columns]\n"
     ]
    },
    {
     "ename": "KeyError",
     "evalue": "\"['RecordNo', 'household_size', 'qweek'] not found in axis\"",
     "output_type": "error",
     "traceback": [
      "\u001b[0;31m---------------------------------------------------------------------------\u001b[0m",
      "\u001b[0;31mKeyError\u001b[0m                                  Traceback (most recent call last)",
      "Cell \u001b[0;32mIn[11], line 2\u001b[0m\n\u001b[1;32m      1\u001b[0m \u001b[38;5;28mprint\u001b[39m(df0)\n\u001b[0;32m----> 2\u001b[0m \u001b[43mdf0\u001b[49m\u001b[38;5;241;43m.\u001b[39;49m\u001b[43mdrop\u001b[49m\u001b[43m(\u001b[49m\u001b[43m[\u001b[49m\u001b[38;5;124;43m\"\u001b[39;49m\u001b[38;5;124;43mRecordNo\u001b[39;49m\u001b[38;5;124;43m\"\u001b[39;49m\u001b[43m,\u001b[49m\u001b[43m \u001b[49m\u001b[38;5;124;43m\"\u001b[39;49m\u001b[38;5;124;43mhousehold_size\u001b[39;49m\u001b[38;5;124;43m\"\u001b[39;49m\u001b[43m,\u001b[49m\u001b[43m \u001b[49m\u001b[38;5;124;43m\"\u001b[39;49m\u001b[38;5;124;43mqweek\u001b[39;49m\u001b[38;5;124;43m\"\u001b[39;49m\u001b[43m]\u001b[49m\u001b[43m,\u001b[49m\u001b[43m \u001b[49m\u001b[43maxis\u001b[49m\u001b[43m \u001b[49m\u001b[38;5;241;43m=\u001b[39;49m\u001b[43m \u001b[49m\u001b[38;5;241;43m1\u001b[39;49m\u001b[43m,\u001b[49m\u001b[43m \u001b[49m\u001b[43minplace\u001b[49m\u001b[43m  \u001b[49m\u001b[38;5;241;43m=\u001b[39;49m\u001b[43m \u001b[49m\u001b[38;5;28;43;01mTrue\u001b[39;49;00m\u001b[43m)\u001b[49m\n\u001b[1;32m      3\u001b[0m \u001b[38;5;28mprint\u001b[39m(df0)\n",
      "File \u001b[0;32m~/Library/Python/3.9/lib/python/site-packages/pandas/core/frame.py:5344\u001b[0m, in \u001b[0;36mDataFrame.drop\u001b[0;34m(self, labels, axis, index, columns, level, inplace, errors)\u001b[0m\n\u001b[1;32m   5196\u001b[0m \u001b[38;5;28;01mdef\u001b[39;00m \u001b[38;5;21mdrop\u001b[39m(\n\u001b[1;32m   5197\u001b[0m     \u001b[38;5;28mself\u001b[39m,\n\u001b[1;32m   5198\u001b[0m     labels: IndexLabel \u001b[38;5;241m|\u001b[39m \u001b[38;5;28;01mNone\u001b[39;00m \u001b[38;5;241m=\u001b[39m \u001b[38;5;28;01mNone\u001b[39;00m,\n\u001b[0;32m   (...)\u001b[0m\n\u001b[1;32m   5205\u001b[0m     errors: IgnoreRaise \u001b[38;5;241m=\u001b[39m \u001b[38;5;124m\"\u001b[39m\u001b[38;5;124mraise\u001b[39m\u001b[38;5;124m\"\u001b[39m,\n\u001b[1;32m   5206\u001b[0m ) \u001b[38;5;241m-\u001b[39m\u001b[38;5;241m>\u001b[39m DataFrame \u001b[38;5;241m|\u001b[39m \u001b[38;5;28;01mNone\u001b[39;00m:\n\u001b[1;32m   5207\u001b[0m \u001b[38;5;250m    \u001b[39m\u001b[38;5;124;03m\"\"\"\u001b[39;00m\n\u001b[1;32m   5208\u001b[0m \u001b[38;5;124;03m    Drop specified labels from rows or columns.\u001b[39;00m\n\u001b[1;32m   5209\u001b[0m \n\u001b[0;32m   (...)\u001b[0m\n\u001b[1;32m   5342\u001b[0m \u001b[38;5;124;03m            weight  1.0     0.8\u001b[39;00m\n\u001b[1;32m   5343\u001b[0m \u001b[38;5;124;03m    \"\"\"\u001b[39;00m\n\u001b[0;32m-> 5344\u001b[0m     \u001b[38;5;28;01mreturn\u001b[39;00m \u001b[38;5;28;43msuper\u001b[39;49m\u001b[43m(\u001b[49m\u001b[43m)\u001b[49m\u001b[38;5;241;43m.\u001b[39;49m\u001b[43mdrop\u001b[49m\u001b[43m(\u001b[49m\n\u001b[1;32m   5345\u001b[0m \u001b[43m        \u001b[49m\u001b[43mlabels\u001b[49m\u001b[38;5;241;43m=\u001b[39;49m\u001b[43mlabels\u001b[49m\u001b[43m,\u001b[49m\n\u001b[1;32m   5346\u001b[0m \u001b[43m        \u001b[49m\u001b[43maxis\u001b[49m\u001b[38;5;241;43m=\u001b[39;49m\u001b[43maxis\u001b[49m\u001b[43m,\u001b[49m\n\u001b[1;32m   5347\u001b[0m \u001b[43m        \u001b[49m\u001b[43mindex\u001b[49m\u001b[38;5;241;43m=\u001b[39;49m\u001b[43mindex\u001b[49m\u001b[43m,\u001b[49m\n\u001b[1;32m   5348\u001b[0m \u001b[43m        \u001b[49m\u001b[43mcolumns\u001b[49m\u001b[38;5;241;43m=\u001b[39;49m\u001b[43mcolumns\u001b[49m\u001b[43m,\u001b[49m\n\u001b[1;32m   5349\u001b[0m \u001b[43m        \u001b[49m\u001b[43mlevel\u001b[49m\u001b[38;5;241;43m=\u001b[39;49m\u001b[43mlevel\u001b[49m\u001b[43m,\u001b[49m\n\u001b[1;32m   5350\u001b[0m \u001b[43m        \u001b[49m\u001b[43minplace\u001b[49m\u001b[38;5;241;43m=\u001b[39;49m\u001b[43minplace\u001b[49m\u001b[43m,\u001b[49m\n\u001b[1;32m   5351\u001b[0m \u001b[43m        \u001b[49m\u001b[43merrors\u001b[49m\u001b[38;5;241;43m=\u001b[39;49m\u001b[43merrors\u001b[49m\u001b[43m,\u001b[49m\n\u001b[1;32m   5352\u001b[0m \u001b[43m    \u001b[49m\u001b[43m)\u001b[49m\n",
      "File \u001b[0;32m~/Library/Python/3.9/lib/python/site-packages/pandas/core/generic.py:4711\u001b[0m, in \u001b[0;36mNDFrame.drop\u001b[0;34m(self, labels, axis, index, columns, level, inplace, errors)\u001b[0m\n\u001b[1;32m   4709\u001b[0m \u001b[38;5;28;01mfor\u001b[39;00m axis, labels \u001b[38;5;129;01min\u001b[39;00m axes\u001b[38;5;241m.\u001b[39mitems():\n\u001b[1;32m   4710\u001b[0m     \u001b[38;5;28;01mif\u001b[39;00m labels \u001b[38;5;129;01mis\u001b[39;00m \u001b[38;5;129;01mnot\u001b[39;00m \u001b[38;5;28;01mNone\u001b[39;00m:\n\u001b[0;32m-> 4711\u001b[0m         obj \u001b[38;5;241m=\u001b[39m \u001b[43mobj\u001b[49m\u001b[38;5;241;43m.\u001b[39;49m\u001b[43m_drop_axis\u001b[49m\u001b[43m(\u001b[49m\u001b[43mlabels\u001b[49m\u001b[43m,\u001b[49m\u001b[43m \u001b[49m\u001b[43maxis\u001b[49m\u001b[43m,\u001b[49m\u001b[43m \u001b[49m\u001b[43mlevel\u001b[49m\u001b[38;5;241;43m=\u001b[39;49m\u001b[43mlevel\u001b[49m\u001b[43m,\u001b[49m\u001b[43m \u001b[49m\u001b[43merrors\u001b[49m\u001b[38;5;241;43m=\u001b[39;49m\u001b[43merrors\u001b[49m\u001b[43m)\u001b[49m\n\u001b[1;32m   4713\u001b[0m \u001b[38;5;28;01mif\u001b[39;00m inplace:\n\u001b[1;32m   4714\u001b[0m     \u001b[38;5;28mself\u001b[39m\u001b[38;5;241m.\u001b[39m_update_inplace(obj)\n",
      "File \u001b[0;32m~/Library/Python/3.9/lib/python/site-packages/pandas/core/generic.py:4753\u001b[0m, in \u001b[0;36mNDFrame._drop_axis\u001b[0;34m(self, labels, axis, level, errors, only_slice)\u001b[0m\n\u001b[1;32m   4751\u001b[0m         new_axis \u001b[38;5;241m=\u001b[39m axis\u001b[38;5;241m.\u001b[39mdrop(labels, level\u001b[38;5;241m=\u001b[39mlevel, errors\u001b[38;5;241m=\u001b[39merrors)\n\u001b[1;32m   4752\u001b[0m     \u001b[38;5;28;01melse\u001b[39;00m:\n\u001b[0;32m-> 4753\u001b[0m         new_axis \u001b[38;5;241m=\u001b[39m \u001b[43maxis\u001b[49m\u001b[38;5;241;43m.\u001b[39;49m\u001b[43mdrop\u001b[49m\u001b[43m(\u001b[49m\u001b[43mlabels\u001b[49m\u001b[43m,\u001b[49m\u001b[43m \u001b[49m\u001b[43merrors\u001b[49m\u001b[38;5;241;43m=\u001b[39;49m\u001b[43merrors\u001b[49m\u001b[43m)\u001b[49m\n\u001b[1;32m   4754\u001b[0m     indexer \u001b[38;5;241m=\u001b[39m axis\u001b[38;5;241m.\u001b[39mget_indexer(new_axis)\n\u001b[1;32m   4756\u001b[0m \u001b[38;5;66;03m# Case for non-unique axis\u001b[39;00m\n\u001b[1;32m   4757\u001b[0m \u001b[38;5;28;01melse\u001b[39;00m:\n",
      "File \u001b[0;32m~/Library/Python/3.9/lib/python/site-packages/pandas/core/indexes/base.py:7000\u001b[0m, in \u001b[0;36mIndex.drop\u001b[0;34m(self, labels, errors)\u001b[0m\n\u001b[1;32m   6998\u001b[0m \u001b[38;5;28;01mif\u001b[39;00m mask\u001b[38;5;241m.\u001b[39many():\n\u001b[1;32m   6999\u001b[0m     \u001b[38;5;28;01mif\u001b[39;00m errors \u001b[38;5;241m!=\u001b[39m \u001b[38;5;124m\"\u001b[39m\u001b[38;5;124mignore\u001b[39m\u001b[38;5;124m\"\u001b[39m:\n\u001b[0;32m-> 7000\u001b[0m         \u001b[38;5;28;01mraise\u001b[39;00m \u001b[38;5;167;01mKeyError\u001b[39;00m(\u001b[38;5;124mf\u001b[39m\u001b[38;5;124m\"\u001b[39m\u001b[38;5;132;01m{\u001b[39;00mlabels[mask]\u001b[38;5;241m.\u001b[39mtolist()\u001b[38;5;132;01m}\u001b[39;00m\u001b[38;5;124m not found in axis\u001b[39m\u001b[38;5;124m\"\u001b[39m)\n\u001b[1;32m   7001\u001b[0m     indexer \u001b[38;5;241m=\u001b[39m indexer[\u001b[38;5;241m~\u001b[39mmask]\n\u001b[1;32m   7002\u001b[0m \u001b[38;5;28;01mreturn\u001b[39;00m \u001b[38;5;28mself\u001b[39m\u001b[38;5;241m.\u001b[39mdelete(indexer)\n",
      "\u001b[0;31mKeyError\u001b[0m: \"['RecordNo', 'household_size', 'qweek'] not found in axis\""
     ]
    }
   ],
   "source": [
    "print(df0)\n",
    "df0 = df0.drop([\"RecordNo\", \"household_size\", \"qweek\"], axis = 1)\n",
    "print(df0)"
   ]
  },
  {
   "cell_type": "markdown",
   "id": "4189fec6-ceab-468d-8665-be90ce5ec6ed",
   "metadata": {},
   "source": [
    "## Face Mask related columns"
   ]
  },
  {
   "cell_type": "code",
   "execution_count": 13,
   "id": "d32c77b4-1cbb-4cd2-a241-a7bc282913ff",
   "metadata": {},
   "outputs": [
    {
     "data": {
      "image/png": "[encoded data removed]",
      "text/plain": [
       "<Figure size 640x480 with 1 Axes>"
      ]
     },
     "metadata": {},
     "output_type": "display_data"
    }
   ],
   "source": [
    "df0[\"cantril_ladder\"] = df0[\"cantril_ladder\"].astype(str)  # Convert to string for categorical representation\n",
    "\n",
    "# Count the occurrences of each combination of cantril_ladder and gender\n",
    "counts = df0.groupby([\"cantril_ladder\", \"gender\"]).size().unstack(fill_value=0)\n",
    "\n",
    "# Calculate the proportion of each gender for each cantril_ladder level\n",
    "proportions = counts.div(counts.sum(axis=1), axis=0)\n",
    "\n",
    "# Plotting the bar chart\n",
    "proportions.plot(kind=\"bar\", stacked=True)\n",
    "\n",
    "plt.title(\"Proportion of Gender for Each Cantril Ladder Level\")\n",
    "plt.xlabel(\"Cantril Ladder Level\")\n",
    "plt.ylabel(\"Proportion\")\n",
    "plt.legend(title=\"Gender\", bbox_to_anchor=(1, 1))\n",
    "plt.show()"
   ]
  },
  {
   "cell_type": "code",
   "execution_count": 18,
   "id": "ec495791-0575-4ec2-b8d9-350bdc5e91e9",
   "metadata": {},
   "outputs": [
    {
     "name": "stdout",
     "output_type": "stream",
     "text": [
      "i2_health\n",
      "0.0      11203\n",
      "2.0       5570\n",
      "10.0      4194\n",
      "1.0       3986\n",
      "5.0       3709\n",
      "         ...  \n",
      "490.0        1\n",
      "124.0        1\n",
      "199.0        1\n",
      "76.0         1\n",
      "77.0         1\n",
      "Name: count, Length: 127, dtype: int64\n"
     ]
    },
    {
     "data": {
      "text/plain": [
       "Text(0, 0.5, 'Count')"
      ]
     },
     "execution_count": 18,
     "metadata": {},
     "output_type": "execute_result"
    },
    {
     "data": {
      "image/png": "[encoded data removed]",
      "text/plain": [
       "<Figure size 640x480 with 1 Axes>"
      ]
     },
     "metadata": {},
     "output_type": "display_data"
    }
   ],
   "source": [
    "print(df0[\"i2_health\"].value_counts())\n",
    "#  plot x axis is number, y axis is count\n",
    "plt.scatter(df0[\"i2_health\"].value_counts().index, df0[\"i2_health\"].value_counts().values)\n",
    "plt.xlabel(\"Value\")\n",
    "plt.ylabel(\"Count\")"
   ]
  },
  {
   "cell_type": "code",
   "execution_count": 23,
   "id": "25ef9a89-8264-45f9-a159-3fb8f1b73fe8",
   "metadata": {},
   "outputs": [
    {
     "name": "stdout",
     "output_type": "stream",
     "text": [
      "r1_1\n",
      "7               9874\n",
      "4               8506\n",
      "5               7091\n",
      "6               5446\n",
      "3               5076\n",
      "1 – Disagree    4580\n",
      "2               4237\n",
      "Name: count, dtype: int64\n",
      "r1_1\n",
      "7    9874\n",
      "4    8506\n",
      "5    7091\n",
      "6    5446\n",
      "3    5076\n",
      "1    4580\n",
      "2    4237\n",
      "Name: count, dtype: int64\n"
     ]
    }
   ],
   "source": [
    "print(df0[\"r1_1\"].value_counts())\n",
    "# remove string of agree and disagree\n",
    "df0[\"r1_1\"] = df0[\"r1_1\"].replace(\"7 - Agree\", 7)\n",
    "df0[\"r1_1\"] = df0[\"r1_1\"].replace(\"1 – Disagree\", 1)\n",
    "print(df0[\"r1_1\"].value_counts())"
   ]
  },
  {
   "cell_type": "code",
   "execution_count": 64,
   "id": "cdd57f40-9063-4eb3-9772-cbc3fc00802c",
   "metadata": {},
   "outputs": [
    {
     "name": "stdout",
     "output_type": "stream",
     "text": [
      "i12_health_mean\n",
      "5.000000    1446\n",
      "4.529412     865\n",
      "4.764706     841\n",
      "3.823529     829\n",
      "4.411765     816\n",
      "            ... \n",
      "1.352941      75\n",
      "1.176471      58\n",
      "1.294118      54\n",
      "1.117647      47\n",
      "1.058824      25\n",
      "Name: count, Length: 69, dtype: int64\n",
      "d1_health_mean\n",
      "0.066667    24186\n",
      "0.133333     4736\n",
      "0.200000     3036\n",
      "0.266667     1517\n",
      "0.333333      650\n",
      "0.400000      232\n",
      "0.466667       73\n",
      "0.533333       18\n",
      "0.600000        4\n",
      "Name: count, dtype: int64\n",
      "0.022323843356115383\n"
     ]
    },
    {
     "data": {
      "text/plain": [
       "Text(0, 0.5, 'i12_health')"
      ]
     },
     "execution_count": 64,
     "metadata": {},
     "output_type": "execute_result"
    },
    {
     "data": {
      "image/png": "[encoded data removed]",
      "text/plain": [
       "<Figure size 640x480 with 1 Axes>"
      ]
     },
     "metadata": {},
     "output_type": "display_data"
    }
   ],
   "source": [
    "df = pd.read_csv(\"../data/cleaned_data.csv\")\n",
    "# print(df[\"PHQ4_1\"].value_counts())\n",
    "# plt.scatter(df[\"PHQ4_1\"], df[\"d1_health_1\"])\n",
    "# plt.xlabel(\"phq4_1\")\n",
    "# plt.ylabel(\"d1_health_1\")\n",
    "# plt.xlim(0,1)\n",
    "phq_name_list = [col for col in df.columns if col.startswith(\"PHQ_\")]\n",
    "d1_health_name_list = [col for col in df.columns if col.startswith(\"d1_health_\")]\n",
    "i12_health_name_list = [col for col in df.columns if col.startswith(\"i12_health_\")]\n",
    "        \n",
    "df_new = df.copy()\n",
    "df_new[\"PHQ4_mean\"] = df[phq_name_list].mean(axis = 1)\n",
    "df_new[\"d1_health_mean\"] = df[d1_health_name_list].mean(axis = 1)\n",
    "df_new[\"i12_health_mean\"] = df[i12_health_name_list].mean(axis = 1)\n",
    "df_new = df_new[df_new[\"d1_health_mean\"] < 99]\n",
    "\n",
    "corr1 = df_new[\"i12_health_mean\"].corr(df_new[\"d1_health_mean\"])\n",
    "print(df_new[\"i12_health_mean\"].value_counts())\n",
    "print(df_new[\"d1_health_mean\"].value_counts())\n",
    "# corr2 = df_new[\"i12_health_mean\"].corr(df_new[\"PHQ4_mean\"])\n",
    "print(corr1)\n",
    "\n",
    "plt.scatter(df_new[\"d1_health_mean\"], df_new[\"i12_health_mean\"])\n",
    "plt.xlabel(\"d1_health\")\n",
    "plt.ylabel(\"i12_health\")"
   ]
  },
  {
   "cell_type": "markdown",
   "id": "b6a71bd6-159e-4419-91d1-ec8379db94ea",
   "metadata": {
    "jp-MarkdownHeadingCollapsed": true
   },
   "source": [
    "## Compare with 0 threshold and 1006 threshold"
   ]
  },
  {
   "cell_type": "code",
   "execution_count": null,
   "id": "2b299e8c-9438-48ee-91f7-14e95fe8c410",
   "metadata": {},
   "outputs": [],
   "source": [
    "grouped_df0 = df0.groupby([\"week_number\", \"i12_health_1\"]).size().reset_index(name='count')\n",
    "\n",
    "# Pivot the DataFrame\n",
    "pivoted_df0 = grouped_df0.pivot_table(index='week_number', columns='i12_health_1', values='count', fill_value=0).reset_index()\n",
    "\n",
    "# Calculate proportion_mask_no\n",
    "pivoted_df0['proportion_mask_no'] = pivoted_df0[0] / (pivoted_df0[0] + pivoted_df0[1])\n",
    "\n",
    "# Rename columns\n",
    "pivoted_df0.columns = ['week_number', 'count_mask_no', 'count_mask_yes', 'proportion_mask_no']\n",
    "\n",
    "# Convert columns to integer type\n",
    "pivoted_df0[['count_mask_no', 'count_mask_yes']] = pivoted_df0[['count_mask_no', 'count_mask_yes']].astype(int)\n",
    "\n",
    "# Print the resulting DataFrame\n",
    "# print(pivoted_df0)\n",
    "\n",
    "grouped_df = df.groupby([\"week_number\", \"i12_health_1\"]).size().reset_index(name='count')\n",
    "# Pivot the DataFrame\n",
    "pivoted_df = grouped_df.pivot_table(index='week_number', columns='i12_health_1', values='count', fill_value=0).reset_index()\n",
    "# Calculate proportion_mask_no\n",
    "pivoted_df['proportion_mask_no'] = pivoted_df[0] / (pivoted_df[0] + pivoted_df[1])\n",
    "# Rename columns\n",
    "pivoted_df.columns = ['week_number', 'count_mask_no', 'count_mask_yes', 'proportion_mask_no']\n",
    "\n",
    "# Convert columns to integer type\n",
    "pivoted_df[['count_mask_no', 'count_mask_yes']] = pivoted_df[['count_mask_no', 'count_mask_yes']].astype(int)\n",
    "\n",
    "# Print the resulting DataFrame\n",
    "# print(pivoted_df)\n",
    "\n",
    "# df2 \n",
    "grouped_df2 = df2.groupby([\"week_number\", \"i12_health_1\"]).size().reset_index(name='count')\n",
    "\n",
    "# Pivot the DataFrame\n",
    "pivoted_df2 = grouped_df2.pivot_table(index='week_number', columns='i12_health_1', values='count', fill_value=0).reset_index()\n",
    "# Calculate proportion_mask_no\n",
    "pivoted_df2['proportion_mask_no'] = pivoted_df2[0] / (pivoted_df2[0] + pivoted_df2[1])\n",
    "# Rename columns\n",
    "pivoted_df2.columns = ['week_number', 'count_mask_no', 'count_mask_yes', 'proportion_mask_no']\n",
    "\n",
    "# Convert columns to integer type\n",
    "pivoted_df2[['count_mask_no', 'count_mask_yes']] = pivoted_df2[['count_mask_no', 'count_mask_yes']].astype(int)\n",
    "\n",
    "# Print the resulting DataFrame\n",
    "# print(pivoted_df2)\n",
    "\n",
    "# plot line plot between 0 and 1006\n",
    "merged_df = pd.merge(pivoted_df0, pivoted_df, on='week_number', how='outer', suffixes=('_pivoted_df0', '_pivoted_df1006'))\n",
    "# print(merged_df)\n",
    "# plt.scatter(merged_df[\"proportion_mask_no_pivoted_df0\"], merged_df[\"proportion_mask_no_pivoted_df1006\"])\n",
    "\n",
    "# plot line plot between 1006 and 10029\n",
    "merged_df2 = pd.merge(pivoted_df2, pivoted_df, on='week_number', how='outer', suffixes=('_pivoted_df10029', '_pivoted_df1006'))\n",
    "plt.scatter(merged_df2[\"proportion_mask_no_pivoted_df10029\"], merged_df2[\"proportion_mask_no_pivoted_df1006\"])"
   ]
  },
  {
   "cell_type": "code",
   "execution_count": null,
   "id": "3587f1e9-e1bf-4704-a133-e2763ba69a7a",
   "metadata": {},
   "outputs": [],
   "source": [
    "#  As seen above, because more columns are included the trendency has been blocked from the result due to over-deleted rows with null\n",
    "\n"
   ]
  }
 ],
 "metadata": {
  "kernelspec": {
   "display_name": "Python 3 (ipykernel)",
   "language": "python",
   "name": "python3"
  },
  "language_info": {
   "codemirror_mode": {
    "name": "ipython",
    "version": 3
   },
   "file_extension": ".py",
   "mimetype": "text/x-python",
   "name": "python",
   "nbconvert_exporter": "python",
   "pygments_lexer": "ipython3",
   "version": "3.9.6"
  }
 },
 "nbformat": 4,
 "nbformat_minor": 5
}
