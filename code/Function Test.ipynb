{
 "cells": [
  {
   "cell_type": "code",
   "execution_count": 1,
   "id": "c11c537d-b76b-4fe5-a17f-1b738f2e6098",
   "metadata": {},
   "outputs": [
    {
     "name": "stdout",
     "output_type": "stream",
     "text": [
      "{'Australian Capital Territory': ['2021-06-28', '2022-02-25'], 'New South Wales': ['2021-01-04', '2022-09-20'], 'Northern Territory': ['2021-12-19', '2022-03-05'], 'Queensland': ['2021-12-18', '2022-03-07'], 'South Australia': ['2021-07-27', '2022-09-20'], 'Tasmania': ['2021-12-21', '2022-03-05'], 'Victoria': ['2020-08-16', '2022-09-22'], 'Western Australia': ['2021-04-23', '2022-09-09']}\n"
     ]
    }
   ],
   "source": [
    "from datetime import datetime\n",
    "\n",
    "states_data = {\n",
    "    \"Australian Capital Territory\": [\"28/6/2021\", \"25/2/2022\"],\n",
    "    \"New South Wales\": [\"4/1/2021\", \"20/9/2022\"],\n",
    "    \"Northern Territory\": [\"19/12/2021\", \"5/3/2022\"],\n",
    "    \"Queensland\": [\"18/12/2021\", \"7/3/2022\"],\n",
    "    \"South Australia\": [\"27/7/2021\", \"20/9/2022\"],\n",
    "    \"Tasmania\": [\"21/12/2021\", \"5/3/2022\"],\n",
    "    \"Victoria\": [\"16/8/2020\", \"22/9/2022\"],\n",
    "    \"Western Australia\": [\"23/4/2021\", \"9/9/2022\"]\n",
    "}\n",
    "\n",
    "formatted_states_data = {}\n",
    "\n",
    "for state, dates in states_data.items():\n",
    "    formatted_dates = [datetime.strptime(date, \"%d/%m/%Y\").strftime(\"%Y-%m-%d\") for date in dates]\n",
    "    formatted_states_data[state] = formatted_dates\n",
    "\n",
    "print(formatted_states_data)\n"
   ]
  },
  {
   "cell_type": "code",
   "execution_count": 2,
   "id": "245e3a5b-526b-491d-a548-252e3ba67575",
   "metadata": {},
   "outputs": [],
   "source": [
    "states_date = {'Australian Capital Territory': ['2021-06-28', '2022-02-25'], 'New South Wales': ['2021-01-04', '2022-09-20'], 'Northern Territory': ['2021-12-19', '2022-03-05'], 'Queensland': ['2021-12-18', '2022-03-07'], 'South Australia': ['2021-07-27', '2022-09-20'], 'Tasmania': ['2021-12-21', '2022-03-05'], 'Victoria': ['2020-08-16', '2022-09-22'], 'Western Australia': ['2021-04-23', '2022-09-09']}\n"
   ]
  },
  {
   "cell_type": "code",
   "execution_count": 12,
   "id": "1a428b8d-dddb-4378-a202-072a9c4668b1",
   "metadata": {},
   "outputs": [
    {
     "name": "stdout",
     "output_type": "stream",
     "text": [
      "<class 'str'>\n",
      "<class 'datetime.datetime'>\n"
     ]
    }
   ],
   "source": [
    "def convert_datetime(dt):\n",
    "    date = dt.split()[0]\n",
    "    return datetime.strptime(date, \"%d/%m/%Y\")\n",
    "\n",
    "print(type(states_date[\"Australian Capital Territory\"][0]))\n",
    "start_time, end_time = states_data[state]\n",
    "start_time = datetime.strptime(start_time, \"%d/%m/%Y\")\n",
    "print(type(start_time))"
   ]
  },
  {
   "cell_type": "code",
   "execution_count": 18,
   "id": "07a309ca-0391-488a-b9db-0b6c08594e88",
   "metadata": {},
   "outputs": [
    {
     "name": "stdout",
     "output_type": "stream",
     "text": [
      "<class 'datetime.datetime'>\n"
     ]
    }
   ],
   "source": [
    "sdate = \"28/6/2021\"\n",
    "print(type(datetime.strptime(sdate, \"%d/%m/%Y\")))"
   ]
  },
  {
   "cell_type": "code",
   "execution_count": 20,
   "id": "b2b639f0-7bed-417d-b164-a0d2571cbace",
   "metadata": {},
   "outputs": [
    {
     "name": "stdout",
     "output_type": "stream",
     "text": [
      "<class 'str'>\n"
     ]
    }
   ],
   "source": [
    "print(type(sdate))"
   ]
  },
  {
   "cell_type": "code",
   "execution_count": null,
   "id": "d26746b8-6eb3-42bd-b1b3-4e11e6fe4386",
   "metadata": {},
   "outputs": [],
   "source": []
  }
 ],
 "metadata": {
  "kernelspec": {
   "display_name": "Python 3 (ipykernel)",
   "language": "python",
   "name": "python3"
  },
  "language_info": {
   "codemirror_mode": {
    "name": "ipython",
    "version": 3
   },
   "file_extension": ".py",
   "mimetype": "text/x-python",
   "name": "python",
   "nbconvert_exporter": "python",
   "pygments_lexer": "ipython3",
   "version": "3.9.6"
  }
 },
 "nbformat": 4,
 "nbformat_minor": 5
}
