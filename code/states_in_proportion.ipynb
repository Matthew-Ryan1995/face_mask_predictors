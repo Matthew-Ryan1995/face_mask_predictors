{
 "cells": [
  {
   "cell_type": "code",
   "execution_count": 1,
   "id": "6527aa21-ba7b-4605-9466-dd4b6a7a3a06",
   "metadata": {},
   "outputs": [],
   "source": [
    "import pandas as pd\n",
    "import matplotlib.pyplot as plt\n",
    "from datetime import datetime\n",
    "import seaborn as sns"
   ]
  },
  {
   "cell_type": "code",
   "execution_count": 2,
   "id": "3c97353e-d127-450f-a376-64a7ad170ba4",
   "metadata": {},
   "outputs": [],
   "source": [
    "# Function to convert the date format\n",
    "def convert_date_format(date_str):\n",
    "    try:\n",
    "        date_time_obj = datetime.strptime(date_str, '%d/%m/%Y %H:%M')\n",
    "        formatted_date = date_time_obj.strftime('%m/%d/%Y')\n",
    "        return formatted_date\n",
    "    except ValueError:\n",
    "        pass\n",
    "\n",
    "    try:\n",
    "        date_time_obj = datetime.strptime(date_str, '%d/%m/%Y')\n",
    "        return date_str\n",
    "    except ValueError:\n",
    "        raise ValueError(f\"Unsupported date format: {date_str}\")"
   ]
  },
  {
   "cell_type": "code",
   "execution_count": 3,
   "id": "fa42b662-2c3a-49ca-a920-c8d5b5921cf6",
   "metadata": {},
   "outputs": [
    {
     "name": "stderr",
     "output_type": "stream",
     "text": [
      "/var/folders/zw/qzpy5wgd4tn7wdrrtkxfybwh0000gn/T/ipykernel_96128/1370087601.py:1: DtypeWarning: Columns (3,4,5,41,80,89,410,411,412,413,414,415,416,417,418,419,420,421,422,423,424,425,426,427,428,429,430,431,432,433,434,435,436,437,438,439,440,441,442,443,444,445,446,447,448,449,450,451,452,453,454,455,456,457,458,459,460,461,462,463,464,465,466,467,468,469,470,471,472,473,474,475,476,477,478,479,480,481,482,483,484,485,486,487,488,489,490,491,492,493,494,495,496,497,498,499,500,501,502,503,504,505,506,507,508,509,510,511,512) have mixed types. Specify dtype option on import or set low_memory=False.\n",
      "  df = pd.read_csv(\"../raw_data/australia.csv\")\n"
     ]
    }
   ],
   "source": [
    "df = pd.read_csv(\"../raw_data/australia.csv\")\n",
    "\n",
    "# Convert \"endtime\" to datetime format\n",
    "df[\"endtime\"] = df[\"endtime\"].apply(convert_date_format)\n",
    "df[\"endtime\"] = pd.to_datetime(df[\"endtime\"])\n",
    "start_date = df['endtime'].min()\n",
    "end_date = df['endtime'].max()\n",
    "\n",
    "# Create a new column 'week_number' and assign week numbers\n",
    "df['week_number'] = ((df['endtime'] - start_date).dt.days // 14) + 1\n",
    "week_number = df[\"week_number\"]"
   ]
  },
  {
   "cell_type": "code",
   "execution_count": 4,
   "id": "8e9b2cb0-3925-4fce-8e59-06fd74480cf7",
   "metadata": {},
   "outputs": [
    {
     "name": "stdout",
     "output_type": "stream",
     "text": [
      "       RecordNo    endtime    qweek i1_health i2_health i7a_health  \\\n",
      "0             0 2020-04-01   week 1         1         1          0   \n",
      "380         380 2020-04-01   week 1         5         2          2   \n",
      "381         381 2020-04-01   week 1         0        10          0   \n",
      "382         382 2020-04-01   week 1         1        30          1   \n",
      "383         383 2020-04-01   week 1         1         0          0   \n",
      "...         ...        ...      ...       ...       ...        ...   \n",
      "53695     53695 2022-03-28  week 54                                  \n",
      "53773     53773 2022-03-28  week 54                                  \n",
      "53747     53747 2022-03-28  week 54                                  \n",
      "53820     53820 2022-03-28  week 54                                  \n",
      "53832     53832 2022-03-28  week 54                                  \n",
      "\n",
      "            i3_health          i4_health i5_health_1 i5_health_2  ... q_other  \\\n",
      "0      No, I have not  No, they have not                          ...     NaN   \n",
      "380    No, I have not  No, they have not          No          No  ...     NaN   \n",
      "381    No, I have not  No, they have not          No          No  ...     NaN   \n",
      "382    No, I have not  No, they have not          No          No  ...     NaN   \n",
      "383    No, I have not  No, they have not          No          No  ...     NaN   \n",
      "...               ...                ...         ...         ...  ...     ...   \n",
      "53695                                                             ...  __NA__   \n",
      "53773                                                             ...  __NA__   \n",
      "53747                                                             ...  __NA__   \n",
      "53820                                                             ...  __NA__   \n",
      "53832                                                             ...  __NA__   \n",
      "\n",
      "      household_children_resp had_covid    vac_boost_beyond  \\\n",
      "0                         NaN       NaN                 NaN   \n",
      "380                       NaN       NaN                 NaN   \n",
      "381                       NaN       NaN                 NaN   \n",
      "382                       NaN       NaN                 NaN   \n",
      "383                       NaN       NaN                 NaN   \n",
      "...                       ...       ...                 ...   \n",
      "53695                       0                                 \n",
      "53773                       0            1 - Strongly agree   \n",
      "53747                       0                                 \n",
      "53820                       0                             3   \n",
      "53832                       0                             2   \n",
      "\n",
      "                 future_1            future_2 had_covid_2 long_covid  \\\n",
      "0                     NaN                 NaN         NaN        NaN   \n",
      "380                   NaN                 NaN         NaN        NaN   \n",
      "381                   NaN                 NaN         NaN        NaN   \n",
      "382                   NaN                 NaN         NaN        NaN   \n",
      "383                   NaN                 NaN         NaN        NaN   \n",
      "...                   ...                 ...         ...        ...   \n",
      "53695  3 – About the same                   4          No              \n",
      "53773  3 – About the same  3 – About the same          No              \n",
      "53747  3 – About the same                   4          No              \n",
      "53820  3 – About the same  3 – About the same          No              \n",
      "53832  3 – About the same                   4          No              \n",
      "\n",
      "                 future_3 week_number  \n",
      "0                     NaN           1  \n",
      "380                   NaN           1  \n",
      "381                   NaN           1  \n",
      "382                   NaN           1  \n",
      "383                   NaN           1  \n",
      "...                   ...         ...  \n",
      "53695  3 – About the same          52  \n",
      "53773  3 – About the same          52  \n",
      "53747                   2          52  \n",
      "53820  3 – About the same          52  \n",
      "53832                   2          52  \n",
      "\n",
      "[53833 rows x 514 columns]\n"
     ]
    }
   ],
   "source": [
    "df[\"endtime\"] = pd.to_datetime(df[\"endtime\"])   \n",
    "df = df.sort_values(by=[\"endtime\"])\n",
    "print(df)"
   ]
  },
  {
   "cell_type": "code",
   "execution_count": 5,
   "id": "f26e4800-65fe-468b-8526-da6d5aca95f3",
   "metadata": {},
   "outputs": [
    {
     "name": "stdout",
     "output_type": "stream",
     "text": [
      "0        0\n",
      "380      0\n",
      "381      0\n",
      "382      0\n",
      "383      0\n",
      "        ..\n",
      "53695    1\n",
      "53773    1\n",
      "53747    0\n",
      "53820    0\n",
      "53832    0\n",
      "Name: i12_health_1, Length: 53833, dtype: int64\n"
     ]
    }
   ],
   "source": [
    "frequency_dict = {\"Always\": 1, \"Frequently\": 1, \"Sometimes\": 0, \"Rarely\": 0, \"Not at all\": 0}\n",
    "df[\"i12_health_1\"] = df[\"i12_health_1\"].map(frequency_dict)\n",
    "print(df[\"i12_health_1\"])"
   ]
  },
  {
   "cell_type": "code",
   "execution_count": 6,
   "id": "7583de71-1dc8-4516-9a89-23559aaea05b",
   "metadata": {},
   "outputs": [
    {
     "name": "stdout",
     "output_type": "stream",
     "text": [
      "     week_number                         state  wearing mask = 'No'  \\\n",
      "0              1  Australian Capital Territory                   23   \n",
      "1              1               New South Wales                  395   \n",
      "2              1            Northern Territory                   14   \n",
      "3              1                    Queensland                  324   \n",
      "4              1               South Australia                  155   \n",
      "..           ...                           ...                  ...   \n",
      "403           52                    Queensland                  109   \n",
      "404           52               South Australia                   14   \n",
      "405           52                      Tasmania                   10   \n",
      "406           52                      Victoria                   99   \n",
      "407           52             Western Australia                   10   \n",
      "\n",
      "     wearing mask = 'Yes'  \n",
      "0                       8  \n",
      "1                     190  \n",
      "2                       1  \n",
      "3                      86  \n",
      "4                      23  \n",
      "..                    ...  \n",
      "403                   100  \n",
      "404                    88  \n",
      "405                    10  \n",
      "406                   165  \n",
      "407                    83  \n",
      "\n",
      "[408 rows x 4 columns]\n"
     ]
    }
   ],
   "source": [
    "# Assuming df is your original dataframe\n",
    "df_count = df.groupby([\"week_number\", \"state\", \"i12_health_1\"]).size().unstack(fill_value=0).reset_index()\n",
    "df_count.columns = [\"week_number\", \"state\", \n",
    "                    \"wearing mask = 'No'\", \"wearing mask = 'Yes'\"]\n",
    "\n",
    "print(df_count)"
   ]
  },
  {
   "cell_type": "code",
   "execution_count": null,
   "id": "0ede7d35-2321-48b5-b53c-eb2210556e5d",
   "metadata": {},
   "outputs": [],
   "source": [
    "# plot figures in states. proportion\n",
    "df_count[\"prop_no\"] = df_count[\"wearing mask = 'No'\"] / (df_count[\"wearing mask = 'No'\"] + df_count[\"wearing mask = 'Yes'\"])\n",
    "df_count[\"prop_yes\"] = df_count[\"wearing mask = 'Yes'\"] / (df_count[\"wearing mask = 'No'\"] + df_count[\"wearing mask = 'Yes'\"])\n",
    "print(df_count[df_count[\"state\"]== \"Australian Capital Territory\"])"
   ]
  },
  {
   "cell_type": "code",
   "execution_count": null,
   "id": "b8d52f53-1b80-477a-b133-236ab106e06d",
   "metadata": {},
   "outputs": [],
   "source": [
    "# the regulation dates\n",
    "states_data = {\n",
    "    \"Australian Capital Territory\": [\"28/6/2021\", \"25/2/2022\"],\n",
    "    \"New South Wales\": [\"4/1/2021\", \"20/9/2022\"],\n",
    "    \"Northern Territory\": [\"19/12/2021\", \"5/3/2022\"],\n",
    "    \"Queensland\": [\"18/12/2021\", \"7/3/2022\"],\n",
    "    \"South Australia\": [\"27/7/2021\", \"20/9/2022\"],\n",
    "    \"Tasmania\": [\"21/12/2021\", \"5/3/2022\"],\n",
    "    \"Victoria\": [\"16/8/2020\", \"22/9/2022\"],\n",
    "    \"Western Australia\": [\"23/4/2021\", \"9/9/2022\"]\n",
    "}"
   ]
  },
  {
   "cell_type": "code",
   "execution_count": null,
   "id": "2f0c781d-9b7f-44ec-8517-6a586a0e5c31",
   "metadata": {},
   "outputs": [],
   "source": [
    "# Plotting figures for each state in two columns\n",
    "states = df_count[\"state\"].unique()\n",
    "num_states = len(states)\n",
    "\n",
    "fig, axes = plt.subplots(num_states // 2, 2, figsize=(15, 5 * (num_states // 2 + num_states % 2)))\n",
    "\n",
    "for idx, state in enumerate(states):\n",
    "    ax = axes[idx // 2, idx % 2] if num_states > 1 else axes\n",
    "    \n",
    "    state_df = df_count[df_count[\"state\"] == state]\n",
    "    \n",
    "    ax.bar(state_df[\"week_number\"], state_df[\"prop_yes\"], label=\"Wearing Mask = 'Yes'\")\n",
    "    ax.bar(state_df[\"week_number\"], state_df[\"prop_no\"], bottom=state_df[\"prop_yes\"], label=\"Wearing Mask = 'No'\")\n",
    "    \n",
    "    # Add vertical lines for start and end times\n",
    "    start_time, end_time = states_data[state]\n",
    "    if start_time:\n",
    "        start_time = pd.to_datetime(start_time, format='%d/%m/%Y')\n",
    "        ax.axvline(x=((start_time - start_date).days // 14) + 1, color='purple', linestyle='--', linewidth = 3, label='Face mask mandate Starts')\n",
    "    if end_time and (state == \"Australian Capital Territory\" or state == \"Northen Territory\" or state == \"Queensland\" or state == \"Tasmania\")::\n",
    "        end_time = pd.to_datetime(end_time, format='%d/%m/%Y')\n",
    "        ax.axvline(x=((end_time - start_date).days // 14) + 1, color='yellow', linestyle='--', linewidth = 3, label='Face mask mandate Ends')\n",
    "        \n",
    "    ax.set_title(f\"Percentage of Wearing Mask outside home in {state}\")\n",
    "    ax.set_xlabel(\"Week time\")\n",
    "    ax.set_ylabel(\"Percentage\")\n",
    "    ax.set_ylim(0, 1)  # Fixing y-axis at 1\n",
    "    ax.legend()\n",
    "\n",
    "plt.tight_layout()\n",
    "plt.savefig(\"../figures/states_in_proportion.png\")\n",
    "plt.show()"
   ]
  },
  {
   "cell_type": "code",
   "execution_count": null,
   "id": "5a5ed1fc-c40b-456a-a415-4533c75b0a04",
   "metadata": {},
   "outputs": [],
   "source": []
  }
 ],
 "metadata": {
  "kernelspec": {
   "display_name": "Python 3 (ipykernel)",
   "language": "python",
   "name": "python3"
  },
  "language_info": {
   "codemirror_mode": {
    "name": "ipython",
    "version": 3
   },
   "file_extension": ".py",
   "mimetype": "text/x-python",
   "name": "python",
   "nbconvert_exporter": "python",
   "pygments_lexer": "ipython3",
   "version": "3.9.6"
  }
 },
 "nbformat": 4,
 "nbformat_minor": 5
}
