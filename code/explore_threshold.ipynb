{
 "cells": [
  {
   "cell_type": "markdown",
   "id": "e3dacf8b-c2c3-47e3-835b-80fed5cfb924",
   "metadata": {},
   "source": [
    "<div class=\"alert alert-block alert-info\">\n",
    "<b>Tip:</b> Install tbe jupyter notebook first.\n",
    "</div>"
   ]
  },
  {
   "cell_type": "markdown",
   "id": "612f2ded-a269-4587-b0f1-70b07c6994ff",
   "metadata": {},
   "source": [
    "# Installing and Running Jupyter Notebook\n",
    "\n",
    "```bash\n",
    "# Navigate to the home directory\n",
    "cd ~\n",
    "\n",
    "# Install Jupyter Notebook using pip3\n",
    "pip3 install jupyter\n",
    "\n",
    "# Start Jupyter Notebook\n",
    "python3 -m notebook\n"
   ]
  },
  {
   "cell_type": "markdown",
   "id": "6af7de0e-dd12-40ab-bd46-ee732f34c5f2",
   "metadata": {},
   "source": [
    "# Plot for those columns with less than 1006 missing value"
   ]
  },
  {
   "cell_type": "code",
   "execution_count": null,
   "id": "caeb13f8-d84e-4b8e-be87-95a40c4e601a",
   "metadata": {},
   "outputs": [],
   "source": []
  },
  {
   "cell_type": "code",
   "execution_count": null,
   "id": "856a70ed-0918-4971-b1de-9cd6aa0a111b",
   "metadata": {},
   "outputs": [],
   "source": []
  }
 ],
 "metadata": {
  "kernelspec": {
   "display_name": "Python 3 (ipykernel)",
   "language": "python",
   "name": "python3"
  },
  "language_info": {
   "codemirror_mode": {
    "name": "ipython",
    "version": 3
   },
   "file_extension": ".py",
   "mimetype": "text/x-python",
   "name": "python",
   "nbconvert_exporter": "python",
   "pygments_lexer": "ipython3",
   "version": "3.9.6"
  }
 },
 "nbformat": 4,
 "nbformat_minor": 5
}
